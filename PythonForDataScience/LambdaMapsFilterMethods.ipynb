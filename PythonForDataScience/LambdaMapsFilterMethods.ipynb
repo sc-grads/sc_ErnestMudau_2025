{
 "cells": [
  {
   "cell_type": "code",
   "execution_count": 2,
   "id": "d21dac7c-3912-43f9-91ac-7a305a9a6f7e",
   "metadata": {},
   "outputs": [],
   "source": [
    "def times2(var):\n",
    "    return var*2"
   ]
  },
  {
   "cell_type": "code",
   "execution_count": 3,
   "id": "15207708-b37d-45f8-86f8-0f78792c5cb4",
   "metadata": {},
   "outputs": [
    {
     "data": {
      "text/plain": [
       "20"
      ]
     },
     "execution_count": 3,
     "metadata": {},
     "output_type": "execute_result"
    }
   ],
   "source": [
    "times2(10)"
   ]
  },
  {
   "cell_type": "code",
   "execution_count": 4,
   "id": "79beb25b-e5f0-4d08-b672-5d6843109081",
   "metadata": {},
   "outputs": [],
   "source": [
    "#map\n",
    "seq = [1,2,3,4,5]"
   ]
  },
  {
   "cell_type": "code",
   "execution_count": 13,
   "id": "0d28b69a-25a7-48d7-a5c6-f33158447f5c",
   "metadata": {},
   "outputs": [
    {
     "data": {
      "text/plain": [
       "<map at 0x2910f8260b0>"
      ]
     },
     "execution_count": 13,
     "metadata": {},
     "output_type": "execute_result"
    }
   ],
   "source": [
    "map(times2,seq)"
   ]
  },
  {
   "cell_type": "code",
   "execution_count": 14,
   "id": "075c8dad-37ec-4d4c-a167-95020b5e6ae2",
   "metadata": {},
   "outputs": [
    {
     "data": {
      "text/plain": [
       "[2, 4, 6, 8, 10]"
      ]
     },
     "execution_count": 14,
     "metadata": {},
     "output_type": "execute_result"
    }
   ],
   "source": [
    "list(map(times2,seq))"
   ]
  },
  {
   "cell_type": "code",
   "execution_count": 15,
   "id": "52fc724f-6052-4c01-b812-6ac3beb5b29a",
   "metadata": {},
   "outputs": [],
   "source": [
    "t = lambda var:var*2"
   ]
  },
  {
   "cell_type": "code",
   "execution_count": 16,
   "id": "71baec0a-c6ae-45d1-8c22-736a1b5818e2",
   "metadata": {},
   "outputs": [
    {
     "data": {
      "text/plain": [
       "<function __main__.<lambda>(var)>"
      ]
     },
     "execution_count": 16,
     "metadata": {},
     "output_type": "execute_result"
    }
   ],
   "source": [
    "t"
   ]
  },
  {
   "cell_type": "code",
   "execution_count": 18,
   "id": "bfb1090a-2eb7-42e5-b466-f7da2c92ea96",
   "metadata": {},
   "outputs": [
    {
     "data": {
      "text/plain": [
       "[4, 8, 12, 16, 20]"
      ]
     },
     "execution_count": 18,
     "metadata": {},
     "output_type": "execute_result"
    }
   ],
   "source": [
    "list(map(lambda num: num*4,seq))"
   ]
  },
  {
   "cell_type": "code",
   "execution_count": 19,
   "id": "73ed5bcd-5abd-443d-8fc5-4338205f110b",
   "metadata": {},
   "outputs": [
    {
     "data": {
      "text/plain": [
       "<filter at 0x2910f826290>"
      ]
     },
     "execution_count": 19,
     "metadata": {},
     "output_type": "execute_result"
    }
   ],
   "source": [
    "#filter\n",
    "filter(lambda num : num%2 == 0,seq)"
   ]
  },
  {
   "cell_type": "code",
   "execution_count": 20,
   "id": "3c0c7564-2765-4702-9faf-4ab812cca01c",
   "metadata": {},
   "outputs": [
    {
     "data": {
      "text/plain": [
       "[2, 4]"
      ]
     },
     "execution_count": 20,
     "metadata": {},
     "output_type": "execute_result"
    }
   ],
   "source": [
    "list(filter(lambda num : num%2 == 0,seq))"
   ]
  },
  {
   "cell_type": "code",
   "execution_count": 21,
   "id": "6078ed9c-06bb-4086-92fd-9e6cc0055f25",
   "metadata": {},
   "outputs": [],
   "source": [
    "#methods\n",
    "s = \"hello my name is ernest\""
   ]
  },
  {
   "cell_type": "code",
   "execution_count": 24,
   "id": "a5425068-1ffc-4ab0-9941-7496bb74b553",
   "metadata": {},
   "outputs": [
    {
     "data": {
      "text/plain": [
       "'HELLO MY NAME IS ERNEST'"
      ]
     },
     "execution_count": 24,
     "metadata": {},
     "output_type": "execute_result"
    }
   ],
   "source": [
    "s.upper()"
   ]
  },
  {
   "cell_type": "code",
   "execution_count": 25,
   "id": "00556f34-385a-4e43-a6f3-4abe2d12933c",
   "metadata": {},
   "outputs": [
    {
     "data": {
      "text/plain": [
       "['hello', 'my', 'name', 'is', 'ernest']"
      ]
     },
     "execution_count": 25,
     "metadata": {},
     "output_type": "execute_result"
    }
   ],
   "source": [
    "s.split()"
   ]
  },
  {
   "cell_type": "code",
   "execution_count": 26,
   "id": "2ec3ba1c-5658-4daf-94dd-3974ac6c7936",
   "metadata": {},
   "outputs": [],
   "source": [
    "tweet = 'Go Sports! #Sport'"
   ]
  },
  {
   "cell_type": "code",
   "execution_count": 28,
   "id": "e14c6381-aa76-4d63-a05d-969c0325cf62",
   "metadata": {},
   "outputs": [
    {
     "data": {
      "text/plain": [
       "['Go', 'Sports!', '#Sport']"
      ]
     },
     "execution_count": 28,
     "metadata": {},
     "output_type": "execute_result"
    }
   ],
   "source": [
    "tweet.split()"
   ]
  },
  {
   "cell_type": "code",
   "execution_count": 29,
   "id": "976bca22-6fee-4cab-ae1e-14e5b0fcfed1",
   "metadata": {},
   "outputs": [
    {
     "data": {
      "text/plain": [
       "['Go Sports! ', 'Sport']"
      ]
     },
     "execution_count": 29,
     "metadata": {},
     "output_type": "execute_result"
    }
   ],
   "source": [
    "tweet.split(\"#\")"
   ]
  },
  {
   "cell_type": "code",
   "execution_count": 30,
   "id": "279463c4-0a50-4cc1-829d-ad8a32ddd2e7",
   "metadata": {},
   "outputs": [
    {
     "data": {
      "text/plain": [
       "'Sport'"
      ]
     },
     "execution_count": 30,
     "metadata": {},
     "output_type": "execute_result"
    }
   ],
   "source": [
    "tweet.split(\"#\")[1]"
   ]
  },
  {
   "cell_type": "code",
   "execution_count": 31,
   "id": "d907651c-ad4d-4b83-a30e-b36535efa091",
   "metadata": {},
   "outputs": [],
   "source": [
    "d = {'k1' : {'innerkey': [1,2,3]}}"
   ]
  },
  {
   "cell_type": "code",
   "execution_count": null,
   "id": "44c5064b-a0b9-4afa-ab29-da720cbe34ff",
   "metadata": {},
   "outputs": [],
   "source": []
  }
 ],
 "metadata": {
  "kernelspec": {
   "display_name": "Python 3 (ipykernel)",
   "language": "python",
   "name": "python3"
  },
  "language_info": {
   "codemirror_mode": {
    "name": "ipython",
    "version": 3
   },
   "file_extension": ".py",
   "mimetype": "text/x-python",
   "name": "python",
   "nbconvert_exporter": "python",
   "pygments_lexer": "ipython3",
   "version": "3.13.5"
  }
 },
 "nbformat": 4,
 "nbformat_minor": 5
}
