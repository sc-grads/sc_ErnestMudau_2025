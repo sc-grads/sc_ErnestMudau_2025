{
 "cells": [
  {
   "cell_type": "code",
   "execution_count": 1,
   "id": "08e62937-0959-4189-acbd-b7956f2e6b7d",
   "metadata": {},
   "outputs": [
    {
     "name": "stdout",
     "output_type": "stream",
     "text": [
      "2401\n"
     ]
    }
   ],
   "source": [
    "print(7**4)"
   ]
  },
  {
   "cell_type": "code",
   "execution_count": 2,
   "id": "35e09d19-5904-47b9-8957-78efd249ddf1",
   "metadata": {},
   "outputs": [],
   "source": [
    "s = \"hi there Ernest\""
   ]
  },
  {
   "cell_type": "code",
   "execution_count": 3,
   "id": "90be60b9-bd52-44ac-9c88-66d86b32aa32",
   "metadata": {},
   "outputs": [
    {
     "data": {
      "text/plain": [
       "['hi', 'there', 'Ernest']"
      ]
     },
     "execution_count": 3,
     "metadata": {},
     "output_type": "execute_result"
    }
   ],
   "source": [
    "s.split()"
   ]
  },
  {
   "cell_type": "code",
   "execution_count": 4,
   "id": "680d6161-a34b-472b-b6cf-b90591eff36f",
   "metadata": {},
   "outputs": [
    {
     "name": "stdout",
     "output_type": "stream",
     "text": [
      "the diameter of earth is 12742 km\n"
     ]
    }
   ],
   "source": [
    "planet = \"earth\"\n",
    "diameter = 12742\n",
    "print(\"the diameter of {} is {} km\".format(planet,diameter))"
   ]
  },
  {
   "cell_type": "code",
   "execution_count": 5,
   "id": "2238d130-560c-4e2d-9302-e7e914c0ab04",
   "metadata": {},
   "outputs": [],
   "source": [
    "lst = [1,2,[3,4],[5,[100,200,[\"hello\"]],23,11],1,7]"
   ]
  },
  {
   "cell_type": "code",
   "execution_count": null,
   "id": "32cdf2e0-8cb6-4830-b43f-3da897253899",
   "metadata": {},
   "outputs": [],
   "source": []
  }
 ],
 "metadata": {
  "kernelspec": {
   "display_name": "Python 3 (ipykernel)",
   "language": "python",
   "name": "python3"
  },
  "language_info": {
   "codemirror_mode": {
    "name": "ipython",
    "version": 3
   },
   "file_extension": ".py",
   "mimetype": "text/x-python",
   "name": "python",
   "nbconvert_exporter": "python",
   "pygments_lexer": "ipython3",
   "version": "3.13.5"
  }
 },
 "nbformat": 4,
 "nbformat_minor": 5
}
