{
 "cells": [
  {
   "cell_type": "code",
   "execution_count": 1,
   "id": "13ebbbc0-8296-428a-848d-e3ac8806c0b5",
   "metadata": {},
   "outputs": [],
   "source": [
    "#dictionaries"
   ]
  },
  {
   "cell_type": "code",
   "execution_count": 2,
   "id": "500ffead-889d-40a3-bc37-a92f4a1c8d92",
   "metadata": {},
   "outputs": [],
   "source": [
    "d = {'key1':'value', 'key2' : 123}"
   ]
  },
  {
   "cell_type": "code",
   "execution_count": 3,
   "id": "da4a651e-311d-4d3e-9fc3-6bbf31191c9c",
   "metadata": {},
   "outputs": [
    {
     "data": {
      "text/plain": [
       "'value'"
      ]
     },
     "execution_count": 3,
     "metadata": {},
     "output_type": "execute_result"
    }
   ],
   "source": [
    "d['key1']"
   ]
  },
  {
   "cell_type": "code",
   "execution_count": 5,
   "id": "09b198a3-cf25-4f32-85b9-61f89ed88e56",
   "metadata": {},
   "outputs": [
    {
     "data": {
      "text/plain": [
       "123"
      ]
     },
     "execution_count": 5,
     "metadata": {},
     "output_type": "execute_result"
    }
   ],
   "source": [
    "d['key2']"
   ]
  },
  {
   "cell_type": "code",
   "execution_count": 6,
   "id": "d654f9ac-c7ca-46e2-94fc-98e817c35595",
   "metadata": {},
   "outputs": [],
   "source": [
    "d = {'k1' : [1,2,3]}"
   ]
  },
  {
   "cell_type": "code",
   "execution_count": 7,
   "id": "d5fc3bd5-06db-4506-b433-41b743c200e8",
   "metadata": {},
   "outputs": [
    {
     "data": {
      "text/plain": [
       "{'k1': [1, 2, 3]}"
      ]
     },
     "execution_count": 7,
     "metadata": {},
     "output_type": "execute_result"
    }
   ],
   "source": [
    "d"
   ]
  },
  {
   "cell_type": "code",
   "execution_count": 8,
   "id": "2f0d7551-2fb8-4b55-8ae1-2a398900a109",
   "metadata": {},
   "outputs": [
    {
     "data": {
      "text/plain": [
       "[1, 2, 3]"
      ]
     },
     "execution_count": 8,
     "metadata": {},
     "output_type": "execute_result"
    }
   ],
   "source": [
    "d['k1']"
   ]
  },
  {
   "cell_type": "code",
   "execution_count": 9,
   "id": "f66c970a-2b24-434c-a389-39f65684d982",
   "metadata": {},
   "outputs": [
    {
     "data": {
      "text/plain": [
       "2"
      ]
     },
     "execution_count": 9,
     "metadata": {},
     "output_type": "execute_result"
    }
   ],
   "source": [
    "d['k1'][1]"
   ]
  },
  {
   "cell_type": "code",
   "execution_count": 10,
   "id": "b88fb015-f52e-49f5-a5ce-26d11a9e9ff6",
   "metadata": {},
   "outputs": [],
   "source": [
    "my_list = d['k1']"
   ]
  },
  {
   "cell_type": "code",
   "execution_count": 11,
   "id": "f6b6aeea-cda2-461f-a74e-20e4a88f0ef3",
   "metadata": {},
   "outputs": [
    {
     "data": {
      "text/plain": [
       "[1, 2, 3]"
      ]
     },
     "execution_count": 11,
     "metadata": {},
     "output_type": "execute_result"
    }
   ],
   "source": [
    "my_list"
   ]
  },
  {
   "cell_type": "code",
   "execution_count": 14,
   "id": "91d0e0cf-8153-4277-8e10-7ab4bd796947",
   "metadata": {},
   "outputs": [],
   "source": [
    "d = {'k1' : {'innerkey': [1,2,3,4]}}"
   ]
  },
  {
   "cell_type": "code",
   "execution_count": 15,
   "id": "2dc82fca-b1f4-43a5-a44b-c74326ee8e7c",
   "metadata": {},
   "outputs": [
    {
     "data": {
      "text/plain": [
       "{'innerkey': [1, 2, 3, 4]}"
      ]
     },
     "execution_count": 15,
     "metadata": {},
     "output_type": "execute_result"
    }
   ],
   "source": [
    "d['k1']"
   ]
  },
  {
   "cell_type": "code",
   "execution_count": 16,
   "id": "b43d399b-c6e4-4f27-b17b-c83984e37cd9",
   "metadata": {},
   "outputs": [
    {
     "data": {
      "text/plain": [
       "2"
      ]
     },
     "execution_count": 16,
     "metadata": {},
     "output_type": "execute_result"
    }
   ],
   "source": [
    "d['k1']['innerkey'][1]"
   ]
  },
  {
   "cell_type": "code",
   "execution_count": 17,
   "id": "721470d5-18d1-4933-81d1-cc8ba1a44ca6",
   "metadata": {},
   "outputs": [],
   "source": [
    "#boolean  true or false"
   ]
  },
  {
   "cell_type": "code",
   "execution_count": 26,
   "id": "b3da5bcf-88e2-4c96-a561-7dd587075649",
   "metadata": {},
   "outputs": [],
   "source": [
    "#turple and sets\n",
    "t = (1,2,3) #you cant change a value on a turple"
   ]
  },
  {
   "cell_type": "code",
   "execution_count": 19,
   "id": "e2b0477c-5d0b-4eb9-bbd7-23102b01a43f",
   "metadata": {},
   "outputs": [
    {
     "data": {
      "text/plain": [
       "1"
      ]
     },
     "execution_count": 19,
     "metadata": {},
     "output_type": "execute_result"
    }
   ],
   "source": [
    "t[0]"
   ]
  },
  {
   "cell_type": "code",
   "execution_count": 21,
   "id": "55666037-1e3d-434d-9285-5830f4695652",
   "metadata": {},
   "outputs": [],
   "source": [
    "my_list[0] = 'new'"
   ]
  },
  {
   "cell_type": "code",
   "execution_count": 22,
   "id": "839c9b2a-389d-4c05-9715-9292e5184f02",
   "metadata": {},
   "outputs": [
    {
     "data": {
      "text/plain": [
       "'new'"
      ]
     },
     "execution_count": 22,
     "metadata": {},
     "output_type": "execute_result"
    }
   ],
   "source": [
    "my_list[0]"
   ]
  },
  {
   "cell_type": "code",
   "execution_count": 24,
   "id": "30b7be2b-52d8-4d35-8076-a413dd3d94b0",
   "metadata": {},
   "outputs": [],
   "source": [
    "#set = is a collection of unique elements"
   ]
  },
  {
   "cell_type": "code",
   "execution_count": 25,
   "id": "c183ef81-9630-4df4-a08e-862c2136d80d",
   "metadata": {},
   "outputs": [
    {
     "data": {
      "text/plain": [
       "{1, 2, 3}"
      ]
     },
     "execution_count": 25,
     "metadata": {},
     "output_type": "execute_result"
    }
   ],
   "source": [
    "{1,1,1,2,2,2,3,3,3}"
   ]
  },
  {
   "cell_type": "code",
   "execution_count": 27,
   "id": "4325b5af-3d44-4f2c-ab84-db03046b6c1e",
   "metadata": {},
   "outputs": [],
   "source": [
    "s = {1,2,3}"
   ]
  },
  {
   "cell_type": "code",
   "execution_count": 28,
   "id": "3742aa39-2315-4a5e-b18b-d16b68e6ffaf",
   "metadata": {},
   "outputs": [],
   "source": [
    "s.add(5)"
   ]
  },
  {
   "cell_type": "code",
   "execution_count": 29,
   "id": "097f5aa7-3073-4ae8-a13a-d5b8c0abcf13",
   "metadata": {},
   "outputs": [
    {
     "data": {
      "text/plain": [
       "{1, 2, 3, 5}"
      ]
     },
     "execution_count": 29,
     "metadata": {},
     "output_type": "execute_result"
    }
   ],
   "source": [
    "s"
   ]
  },
  {
   "cell_type": "code",
   "execution_count": 31,
   "id": "30a5966e-69d3-45ea-909d-35aaf30a48c8",
   "metadata": {},
   "outputs": [
    {
     "data": {
      "text/plain": [
       "False"
      ]
     },
     "execution_count": 31,
     "metadata": {},
     "output_type": "execute_result"
    }
   ],
   "source": [
    "#comparison operators\n",
    "1 > 2"
   ]
  },
  {
   "cell_type": "code",
   "execution_count": 32,
   "id": "96eaeef7-dce9-48f1-bc29-ca6a896b9b8d",
   "metadata": {},
   "outputs": [
    {
     "data": {
      "text/plain": [
       "True"
      ]
     },
     "execution_count": 32,
     "metadata": {},
     "output_type": "execute_result"
    }
   ],
   "source": [
    "2>1"
   ]
  },
  {
   "cell_type": "code",
   "execution_count": 33,
   "id": "e525e67f-6b8e-465a-af5a-6bcef4b6e4c5",
   "metadata": {},
   "outputs": [
    {
     "data": {
      "text/plain": [
       "True"
      ]
     },
     "execution_count": 33,
     "metadata": {},
     "output_type": "execute_result"
    }
   ],
   "source": [
    "1 == 1"
   ]
  },
  {
   "cell_type": "code",
   "execution_count": 34,
   "id": "6df53b36-959a-4c94-b1c8-02e8e74beccb",
   "metadata": {},
   "outputs": [
    {
     "data": {
      "text/plain": [
       "False"
      ]
     },
     "execution_count": 34,
     "metadata": {},
     "output_type": "execute_result"
    }
   ],
   "source": [
    "1 == 2"
   ]
  },
  {
   "cell_type": "code",
   "execution_count": 35,
   "id": "4bc3a312-5eab-444a-afab-59ac1e743b89",
   "metadata": {},
   "outputs": [
    {
     "data": {
      "text/plain": [
       "False"
      ]
     },
     "execution_count": 35,
     "metadata": {},
     "output_type": "execute_result"
    }
   ],
   "source": [
    "1 != 1"
   ]
  },
  {
   "cell_type": "code",
   "execution_count": 36,
   "id": "5f79e104-444f-4ef2-9e48-ea69f551555f",
   "metadata": {},
   "outputs": [
    {
     "data": {
      "text/plain": [
       "True"
      ]
     },
     "execution_count": 36,
     "metadata": {},
     "output_type": "execute_result"
    }
   ],
   "source": [
    "\"hi\" != \"bye\""
   ]
  },
  {
   "cell_type": "code",
   "execution_count": 37,
   "id": "693ebb4a-b74c-43a3-b242-28113610ada5",
   "metadata": {},
   "outputs": [
    {
     "data": {
      "text/plain": [
       "False"
      ]
     },
     "execution_count": 37,
     "metadata": {},
     "output_type": "execute_result"
    }
   ],
   "source": [
    "1 < 2 and 2 > 3"
   ]
  },
  {
   "cell_type": "code",
   "execution_count": 38,
   "id": "f3cf5038-0e60-45ac-aab3-e1bd3670c313",
   "metadata": {},
   "outputs": [
    {
     "data": {
      "text/plain": [
       "True"
      ]
     },
     "execution_count": 38,
     "metadata": {},
     "output_type": "execute_result"
    }
   ],
   "source": [
    "1 < 2 or 2 > 3"
   ]
  },
  {
   "cell_type": "code",
   "execution_count": 41,
   "id": "d80016df-81dd-4b5d-82c2-324b448a1878",
   "metadata": {},
   "outputs": [
    {
     "name": "stdout",
     "output_type": "stream",
     "text": [
      "yep\n"
     ]
    }
   ],
   "source": [
    "if 1 < 2 :\n",
    "    print('yep')"
   ]
  },
  {
   "cell_type": "code",
   "execution_count": 43,
   "id": "d009c807-2e68-4be7-af46-cae49ac84344",
   "metadata": {},
   "outputs": [
    {
     "name": "stdout",
     "output_type": "stream",
     "text": [
      "perfom code\n"
     ]
    }
   ],
   "source": [
    "if True :\n",
    "    print(\"perfom code\")"
   ]
  },
  {
   "cell_type": "code",
   "execution_count": 50,
   "id": "835ad01f-0bfb-48a9-ae31-2e1b0c47ada7",
   "metadata": {},
   "outputs": [
    {
     "name": "stdout",
     "output_type": "stream",
     "text": [
      "second\n"
     ]
    }
   ],
   "source": [
    "if 1==2:\n",
    "    print(\"first\")\n",
    "elif 4 == 4 :\n",
    "    print(\"second\")\n",
    "elif 3 == 3 :\n",
    "    print(\"middle\")\n",
    "else:\n",
    "    print(\"last\")"
   ]
  },
  {
   "cell_type": "raw",
   "id": "76b2cd65-d710-4764-86fc-d19044ea4b0c",
   "metadata": {},
   "source": []
  }
 ],
 "metadata": {
  "kernelspec": {
   "display_name": "Python 3 (ipykernel)",
   "language": "python",
   "name": "python3"
  },
  "language_info": {
   "codemirror_mode": {
    "name": "ipython",
    "version": 3
   },
   "file_extension": ".py",
   "mimetype": "text/x-python",
   "name": "python",
   "nbconvert_exporter": "python",
   "pygments_lexer": "ipython3",
   "version": "3.13.5"
  }
 },
 "nbformat": 4,
 "nbformat_minor": 5
}
